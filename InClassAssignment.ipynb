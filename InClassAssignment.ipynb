{
  "nbformat": 4,
  "nbformat_minor": 0,
  "metadata": {
    "colab": {
      "provenance": [],
      "authorship_tag": "ABX9TyOTOSS+GtX2z2ln463P5m3L",
      "include_colab_link": true
    },
    "kernelspec": {
      "name": "python3",
      "display_name": "Python 3"
    },
    "language_info": {
      "name": "python"
    }
  },
  "cells": [
    {
      "cell_type": "markdown",
      "metadata": {
        "id": "view-in-github",
        "colab_type": "text"
      },
      "source": [
        "<a href=\"https://colab.research.google.com/github/aeg251/BTE320/blob/main/InClassAssignment.ipynb\" target=\"_parent\"><img src=\"https://colab.research.google.com/assets/colab-badge.svg\" alt=\"Open In Colab\"/></a>"
      ]
    },
    {
      "cell_type": "code",
      "execution_count": null,
      "metadata": {
        "colab": {
          "base_uri": "https://localhost:8080/"
        },
        "id": "y5ysKbh0geab",
        "outputId": "f549e658-309f-42a6-ea38-0ffbce90e018"
      },
      "outputs": [
        {
          "output_type": "stream",
          "name": "stdout",
          "text": [
            "Enter Sales ($):12000\n",
            "Enter Tax Rate (%):30\n",
            "Sales: $12000.00\n",
            "Cost Of Goods Sold: $4800.00\n",
            "Gross Profit: $7200.00\n",
            "Taxes: $2160.00\n",
            "Net Income: $5040.00\n"
          ]
        }
      ],
      "source": [
        "#input\n",
        "sales = float(input(\"Enter Sales ($):\"))\n",
        "tax_rate = float(input(\"Enter Tax Rate (%):\"))\n",
        "#process\n",
        "COGS = sales * 0.4\n",
        "Profit = sales - COGS\n",
        "taxes = Profit * (tax_rate / 100)\n",
        "net_income = Profit - taxes\n",
        "#output\n",
        "print(\"Sales: ${:.2f}\".format(sales))\n",
        "print(\"Cost Of Goods Sold: ${:.2f}\".format(COGS))\n",
        "print(\"Gross Profit: ${:.2f}\".format(Profit))\n",
        "print(\"Taxes: ${:.2f}\".format(taxes))\n",
        "print(\"Net Income: ${:.2f}\".format(net_income))"
      ]
    },
    {
      "cell_type": "code",
      "source": [
        "'''\n",
        "demand (in units per year)\n",
        "reorder cost($/order)\n",
        "holding costs($/unit/year\n",
        "EOQ = sqrt=(2*D*S/H)\n",
        "Looking to minimize EOQ\\\n",
        "'''\n",
        "\n",
        "demand = int(input(\"Enter Demand (units/year):\"))\n",
        "reorder_cost = float(input(\"Enter Reorder Cost ($/order):\"))\n",
        "holding_cost = float(input(\"Enter Holding Cost ($/unit/year):\"))\n",
        "\n",
        "EOQ = int(((2 * demand * reorder_cost) / holding_cost)**0.5)\n",
        "\n",
        "print(\"EOQ: {} units\".format(EOQ))"
      ],
      "metadata": {
        "colab": {
          "base_uri": "https://localhost:8080/"
        },
        "id": "wUBqNZeaIoWu",
        "outputId": "41f510db-c468-4e1d-92df-493d4aeb2de0"
      },
      "execution_count": null,
      "outputs": [
        {
          "output_type": "stream",
          "name": "stdout",
          "text": [
            "Enter Demand (units/year):100\n",
            "Enter Reorder Cost ($/order):1.5\n",
            "Enter Holding Cost ($/unit/year):3\n",
            "EOQ: 10\n"
          ]
        }
      ]
    },
    {
      "cell_type": "code",
      "source": [
        "print(\"Welcome to Calculator \")\n",
        "num1 = float(input(\"Enter first number: \"))\n",
        "operator = input(\"Enter operator (+, -, *, /, %, **, //): \")\n",
        "num2 = float(input(\"Enter second number: \"))\n",
        "\n",
        "if(operator == '+'):\n",
        "    print(f\"Result: {num1 + num2}\")\n",
        "elif(operator == '-'):\n",
        "    print(f\"Result: {num1 - num2}\")\n",
        "elif(operator == '*'):\n",
        "    print(f\"Result: {num1 * num2}\")\n",
        "elif(operator == '/'):\n",
        "    print(f\"Result: {num1 / num2}\")\n",
        "elif(operator == '%'):\n",
        "    print(f\"Result: {num1 % num2}\")\n",
        "elif(operator == '**'):\n",
        "    print(f\"Result: {num1 ** num2}\")\n",
        "elif(operator == '//'):\n",
        "    print(f\"Result: {num1 // num2}\")\n",
        "else:\n",
        "    print(\"Invalid input, try again\")"
      ],
      "metadata": {
        "colab": {
          "base_uri": "https://localhost:8080/"
        },
        "id": "gZfaRMzyL8Sk",
        "outputId": "6f297791-bf68-420a-ec30-d63c2078001c"
      },
      "execution_count": 10,
      "outputs": [
        {
          "output_type": "stream",
          "name": "stdout",
          "text": [
            "Welcome to Calculator \n",
            "Enter first number: 3\n",
            "Enter operator (+, -, *, /, %, **, //): **\n",
            "Enter second number: 7\n",
            "Result: 2187.0\n"
          ]
        }
      ]
    }
  ]
}